{
  "nbformat": 4,
  "nbformat_minor": 0,
  "metadata": {
    "colab": {
      "name": "LEG_Tle_SpeNSI_Th-01_Module-1_Notebook1.ipynb",
      "provenance": []
    },
    "kernelspec": {
      "name": "python3",
      "display_name": "Python 3"
    }
  },
  "cells": [
    {
      "cell_type": "markdown",
      "metadata": {
        "id": "CuD1bYIBMY4L",
        "colab_type": "text"
      },
      "source": [
        "<style>h1{color:#0000ff;text-align:center;}</style>\n",
        "<h1>Numérique et Sciences Informatiques</h1>\n",
        "\n",
        "<h3>Lycée d'Enseignement Général | Terminale | Enseignement de Spécialité</h3>"
      ]
    },
    {
      "cell_type": "markdown",
      "metadata": {
        "id": "LqcZ_t-hNAJK",
        "colab_type": "text"
      },
      "source": [
        "<blockquote>\n",
        "  <hr />\n",
        "  <b>M. HAROUY</b> | professeur@nsi.sapiensjmh.top | <a href='https://nsi.sapiensjmh.top' target='_blank'>https://nsi.sapiensjmh.top</a>\n",
        "  <hr />\n",
        "</blockquote>"
      ]
    },
    {
      "cell_type": "markdown",
      "metadata": {
        "id": "k8mlJHw8Dwk4",
        "colab_type": "text"
      },
      "source": [
        "<h3>\n",
        "  <b>Thème 1 - Structure de données</b>\n",
        "<h3>\n",
        "<h4>\n",
        "  <i>Module 1 - Programmation Orientée Objet (POO)</i>\n",
        "</h4>\n"
      ]
    },
    {
      "cell_type": "markdown",
      "metadata": {
        "id": "5-mSCuiVtarP",
        "colab_type": "text"
      },
      "source": [
        "<code><mark>Première implémentation en Python</mark></code>"
      ]
    },
    {
      "cell_type": "code",
      "metadata": {
        "id": "KcqhXZp8rECO",
        "colab_type": "code",
        "colab": {}
      },
      "source": [
        "\"\"\"\n",
        "Algorithme knn \n",
        "‘identificationIris'\n",
        "version : 4 attributs (fichier de données labellisées = iris_complet.csv) et 3 classes\n",
        "\"\"\"\n",
        "\n",
        "# ===============================================================\n",
        "#                   IMPORT DE BIBLIOTHEQUES\n",
        "# ===============================================================\n",
        "import csv\n",
        "from math import sqrt\n",
        "import time\n",
        "# ===============================================================\n",
        "#                 DECLARATION DE VARIABLES\n",
        "# ===============================================================\n",
        "# ---------------------------------------------------------------\n",
        "#     nom : le (liste des échantillons) | type : liste de listes \n",
        "# ---------------------------------------------------------------\n",
        "le=[]\n",
        "with open('iris_complet.csv', newline='') as csvfile:\n",
        "    listecsv = csv.reader(csvfile, delimiter=',')\n",
        "    for row in listecsv:\n",
        "      le.append(row)\n",
        "    csvfile.close()\n",
        "# ---------------------------------------------------------------\n",
        "#     nom : ce(codes des espèces) | type : liste de listes\n",
        "# ---------------------------------------------------------------\n",
        "ce = [ [0,'Iris setosa'],[1,'Iris virginica'],[2,'Iris versicolor'] ]\n",
        "# ---------------------------------------------------------------\n",
        "#     nom : eai (échantillon à identifier) | type = liste\n",
        "# ---------------------------------------------------------------\n",
        "# Attention : il faut que l'ordre de saisie soit le même que l'ordre des attributs dans le fichier des données labellisées\n",
        "eai = []\n",
        "eai.append(float(input('Saisir la longueur du sépale de l\\'iris inconnu : ')))\n",
        "eai.append(float(input('Saisir la largeur du sépale de l\\'iris inconnu : ')))\n",
        "eai.append(float(input('Saisir la longueur du pétale de l\\'iris inconnu : ')))\n",
        "eai.append(float(input('Saisir la largeur du pétale de l\\'iris inconnu : ')))\n",
        "# ---------------------------------------------------------------\n",
        "#     nom : k (nombre de voisins) | type : entier\n",
        "# ---------------------------------------------------------------\n",
        "k = input('Saisir le nombre de voisins voulu : ')\n",
        "k = int(k)\n",
        "# ===============================================================\n",
        "#                        CALCUL DES DISTANCES\n",
        "#              entre chaque échantillon de la liste ‘le'\n",
        "#                   et l'échantillon inconnu ‘eai'\n",
        "# ===============================================================\n",
        "# ---------------------------------------------------------------\n",
        "# déclaration d'une variable : type = liste ; nom = 'dist' ;\n",
        "# ---------------------------------------------------------------\n",
        "dist=[]\n",
        "# ---------------------------------------------------------------\n",
        "# déclaration d'une variable temporaire : type = float ; nom = 'd' ;\n",
        "# ---------------------------------------------------------------\n",
        "d=0.0\n",
        "# ---------------------------------------------------------------\n",
        "# affectation de valeurs de type 'liste' à 'dist' par une boucle bornée\n",
        "# ---------------------------------------------------------------\n",
        "for i in range(1,len(le)):\n",
        "    d =sqrt( pow(eai[0]-float(le[i][0]) ,2) + pow(eai[1]-float(le[i][1]) ,2)  + pow(eai[2]-float(le[i][2]) ,2) + pow(eai[3]-float(le[i][3]) ,2))\n",
        "    dist.append( (d, int(le[i][4]) ) )\n",
        "# ---------------------------------------------------------------\n",
        "# ===============================================================\n",
        "#                        TRI DES DISTANCES\n",
        "#              Tri de 'dist' par ordre croissant des distances\n",
        "# ===============================================================\n",
        "dist.sort(key=lambda x:x[0])\n",
        "# ===============================================================\n",
        "#       PRÉDICTION DE LA ‘CLASSE' DE L'ÉCHANTILLON INCONNU\n",
        "# ===============================================================\n",
        "# ---------------------------------------------------------------\n",
        "#           1 - SELECTION DES K PLUS COURTES DISTANCES\n",
        "# déclaration de variable : nom = 'kcd' ;type = liste ;\n",
        "kcd=[]\n",
        "# affectation de valeurs de type 'liste' à 'kcd' par une boucle bornée\n",
        "for i in range(0,k):\n",
        "  kcd.append( [dist[i][0], dist[i][1]] )\n",
        "print()\n",
        "print(kcd)\n",
        "print()\n",
        "# ---------------------------------------------------------------\n",
        "#                   2 - POUR CHAQUE CLASSE,\n",
        "#               COMPTAGE DU NOMBRE DE PLUS PROCHES VOISINS\n",
        "# déclaration d'une variable : type = liste ; nom = 'npvc' ;\n",
        "npvc=[]\n",
        "# initialisation de la table ‘npvc'\n",
        "for i in range(0, len(ce)): \n",
        "  npvc.append( [ce[i][0], 0 ] )\n",
        "# comptage du nombre de plus proches voisins pour chaque classe\n",
        "for i in range(0,k): \n",
        "  for j in range(0,len(ce)): \n",
        "    if kcd[i][1] == ce[j][0]: \n",
        "      npvc[j][1]= npvc[j][1] + 1\n",
        "# tri de la table ‘npvc' par ordre croissant de nombre de plus proches voisins\n",
        "npvc.sort(key=lambda x:x[1])\n",
        "# ---------------------------------------------------------------\n",
        "#                 3 - AFFICHAGE D'UNE PREDICTION\n",
        "# ---------------------------------------------------------------\n",
        "print( 'Prédiction - L'iris peut faire partie de l'espèce : ',ce[ npvc[len(npvc)-1][0]][1] )\n",
        "# ==============================================================="
      ],
      "execution_count": null,
      "outputs": []
    }
  ]
}